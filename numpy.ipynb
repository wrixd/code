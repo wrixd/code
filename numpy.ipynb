{
  "nbformat": 4,
  "nbformat_minor": 0,
  "metadata": {
    "colab": {
      "name": "numpy.ipynb",
      "provenance": [],
      "authorship_tag": "ABX9TyPhI1MFCEjvWYtGKWQxS4Sn",
      "include_colab_link": true
    },
    "kernelspec": {
      "name": "python3",
      "display_name": "Python 3"
    },
    "language_info": {
      "name": "python"
    }
  },
  "cells": [
    {
      "cell_type": "markdown",
      "metadata": {
        "id": "view-in-github",
        "colab_type": "text"
      },
      "source": [
        "<a href=\"https://colab.research.google.com/github/wrixd/code/blob/main/numpy.ipynb\" target=\"_parent\"><img src=\"https://colab.research.google.com/assets/colab-badge.svg\" alt=\"Open In Colab\"/></a>"
      ]
    },
    {
      "cell_type": "code",
      "metadata": {
        "id": "9Xoygxyuoqdo"
      },
      "source": [
        "import numpy as np"
      ],
      "execution_count": 1,
      "outputs": []
    },
    {
      "cell_type": "code",
      "metadata": {
        "colab": {
          "base_uri": "https://localhost:8080/"
        },
        "id": "ETLAbqo0pkn-",
        "outputId": "95f700c5-1354-4682-b203-bda7da274d32"
      },
      "source": [
        "a = np.array([1,2,3],dtype='int8')\n",
        "print(a)"
      ],
      "execution_count": 2,
      "outputs": [
        {
          "output_type": "stream",
          "name": "stdout",
          "text": [
            "[1 2 3]\n"
          ]
        }
      ]
    },
    {
      "cell_type": "code",
      "metadata": {
        "colab": {
          "base_uri": "https://localhost:8080/"
        },
        "id": "ejSGRLXwppyq",
        "outputId": "f3eaafe2-42d7-40af-e01d-d27b660f63d8"
      },
      "source": [
        "b = np.array([[9.0,8.0,7.0],[6.0,5.0,4.0,6.5]])\n",
        "print(b)"
      ],
      "execution_count": 3,
      "outputs": [
        {
          "output_type": "stream",
          "name": "stdout",
          "text": [
            "[list([9.0, 8.0, 7.0]) list([6.0, 5.0, 4.0, 6.5])]\n"
          ]
        },
        {
          "output_type": "stream",
          "name": "stderr",
          "text": [
            "/usr/local/lib/python3.7/dist-packages/ipykernel_launcher.py:1: VisibleDeprecationWarning: Creating an ndarray from ragged nested sequences (which is a list-or-tuple of lists-or-tuples-or ndarrays with different lengths or shapes) is deprecated. If you meant to do this, you must specify 'dtype=object' when creating the ndarray\n",
            "  \"\"\"Entry point for launching an IPython kernel.\n"
          ]
        }
      ]
    },
    {
      "cell_type": "code",
      "metadata": {
        "colab": {
          "base_uri": "https://localhost:8080/"
        },
        "id": "6QRG96LPsV2_",
        "outputId": "be183440-270f-4d0e-ca0a-712ae4af30f0"
      },
      "source": [
        "#itemsize\n",
        "a.itemsize,b.itemsize\n"
      ],
      "execution_count": 4,
      "outputs": [
        {
          "output_type": "execute_result",
          "data": {
            "text/plain": [
              "(1, 8)"
            ]
          },
          "metadata": {},
          "execution_count": 4
        }
      ]
    },
    {
      "cell_type": "code",
      "metadata": {
        "colab": {
          "base_uri": "https://localhost:8080/"
        },
        "id": "haKHm0uotCsc",
        "outputId": "c1646f22-3f74-4585-8d91-3cf444ad8e11"
      },
      "source": [
        "#no of elements\n",
        "a.size,b.size"
      ],
      "execution_count": 5,
      "outputs": [
        {
          "output_type": "execute_result",
          "data": {
            "text/plain": [
              "(3, 2)"
            ]
          },
          "metadata": {},
          "execution_count": 5
        }
      ]
    },
    {
      "cell_type": "code",
      "metadata": {
        "colab": {
          "base_uri": "https://localhost:8080/"
        },
        "id": "-DH1QTJttenM",
        "outputId": "6a4e4e28-7ded-4e6f-8596-5aade5871345"
      },
      "source": [
        "#total size\n",
        "a.size*a.itemsize,b.size*b.itemsize"
      ],
      "execution_count": 6,
      "outputs": [
        {
          "output_type": "execute_result",
          "data": {
            "text/plain": [
              "(3, 16)"
            ]
          },
          "metadata": {},
          "execution_count": 6
        }
      ]
    },
    {
      "cell_type": "code",
      "metadata": {
        "colab": {
          "base_uri": "https://localhost:8080/"
        },
        "id": "O0jo8Zdht_3O",
        "outputId": "939bddc4-ad52-4163-fee7-ae404894f4fd"
      },
      "source": [
        "a.nbytes,b.nbytes\n"
      ],
      "execution_count": 7,
      "outputs": [
        {
          "output_type": "execute_result",
          "data": {
            "text/plain": [
              "(3, 16)"
            ]
          },
          "metadata": {},
          "execution_count": 7
        }
      ]
    },
    {
      "cell_type": "code",
      "metadata": {
        "colab": {
          "base_uri": "https://localhost:8080/"
        },
        "id": "FrDRBB9nuHzH",
        "outputId": "0a6764b0-2732-46e6-9942-d9d86fbbcb69"
      },
      "source": [
        "a = np.array([[1,2,3,4,5,6,7],[8,9,10,11,12,13,14]])\n",
        "print(a)"
      ],
      "execution_count": 8,
      "outputs": [
        {
          "output_type": "stream",
          "name": "stdout",
          "text": [
            "[[ 1  2  3  4  5  6  7]\n",
            " [ 8  9 10 11 12 13 14]]\n"
          ]
        }
      ]
    },
    {
      "cell_type": "code",
      "metadata": {
        "colab": {
          "base_uri": "https://localhost:8080/"
        },
        "id": "VHRnXQqIvBWZ",
        "outputId": "f7ad53eb-e665-4ec3-d5e7-52fb218dd746"
      },
      "source": [
        "a[1,5]"
      ],
      "execution_count": 9,
      "outputs": [
        {
          "output_type": "execute_result",
          "data": {
            "text/plain": [
              "13"
            ]
          },
          "metadata": {},
          "execution_count": 9
        }
      ]
    },
    {
      "cell_type": "code",
      "metadata": {
        "colab": {
          "base_uri": "https://localhost:8080/"
        },
        "id": "4bVKp8MVvLtv",
        "outputId": "a9a66c3e-5295-453f-d48b-d459b03ea610"
      },
      "source": [
        "a[1,:]"
      ],
      "execution_count": 10,
      "outputs": [
        {
          "output_type": "execute_result",
          "data": {
            "text/plain": [
              "array([ 8,  9, 10, 11, 12, 13, 14])"
            ]
          },
          "metadata": {},
          "execution_count": 10
        }
      ]
    },
    {
      "cell_type": "code",
      "metadata": {
        "colab": {
          "base_uri": "https://localhost:8080/"
        },
        "id": "3DJiDR1QvRSM",
        "outputId": "ac28cece-65c0-4a1b-d0ee-48c93e7864e9"
      },
      "source": [
        "a[0,1:-1:4]"
      ],
      "execution_count": 11,
      "outputs": [
        {
          "output_type": "execute_result",
          "data": {
            "text/plain": [
              "array([2, 6])"
            ]
          },
          "metadata": {},
          "execution_count": 11
        }
      ]
    },
    {
      "cell_type": "code",
      "metadata": {
        "colab": {
          "base_uri": "https://localhost:8080/"
        },
        "id": "YtXft3rmvZ0M",
        "outputId": "2bf4cfe4-3ad1-4a9b-ad7b-22e2b3a530f0"
      },
      "source": [
        "a[0,3]=87.32\n",
        "print(a)"
      ],
      "execution_count": 12,
      "outputs": [
        {
          "output_type": "stream",
          "name": "stdout",
          "text": [
            "[[ 1  2  3 87  5  6  7]\n",
            " [ 8  9 10 11 12 13 14]]\n"
          ]
        }
      ]
    },
    {
      "cell_type": "code",
      "metadata": {
        "colab": {
          "base_uri": "https://localhost:8080/"
        },
        "id": "UZygY68TweH7",
        "outputId": "e5be9490-8bd4-43ba-adf6-bebdaf5a4d7e"
      },
      "source": [
        "b = np.array([[[1,2],[3,4]],[[5,6],[7,8]]])\n",
        "print(b)"
      ],
      "execution_count": 13,
      "outputs": [
        {
          "output_type": "stream",
          "name": "stdout",
          "text": [
            "[[[1 2]\n",
            "  [3 4]]\n",
            "\n",
            " [[5 6]\n",
            "  [7 8]]]\n"
          ]
        }
      ]
    },
    {
      "cell_type": "code",
      "metadata": {
        "colab": {
          "base_uri": "https://localhost:8080/"
        },
        "id": "9AId5RYbw2QV",
        "outputId": "41990cc7-69a8-4ad1-f8a4-d2654397db42"
      },
      "source": [
        "b[1,0,1]"
      ],
      "execution_count": 14,
      "outputs": [
        {
          "output_type": "execute_result",
          "data": {
            "text/plain": [
              "6"
            ]
          },
          "metadata": {},
          "execution_count": 14
        }
      ]
    },
    {
      "cell_type": "code",
      "metadata": {
        "colab": {
          "base_uri": "https://localhost:8080/"
        },
        "id": "Jg9IOXwNw4Hi",
        "outputId": "6afb0616-dcd7-4261-95a5-559d611bb121"
      },
      "source": [
        "a= np.full([2,2],534.3,dtype='float32')\n",
        "print(a)"
      ],
      "execution_count": 15,
      "outputs": [
        {
          "output_type": "stream",
          "name": "stdout",
          "text": [
            "[[534.3 534.3]\n",
            " [534.3 534.3]]\n"
          ]
        }
      ]
    },
    {
      "cell_type": "code",
      "metadata": {
        "colab": {
          "base_uri": "https://localhost:8080/"
        },
        "id": "bS5tOyQhw4Eh",
        "outputId": "9d9a5a2b-f421-479f-bc52-796fb65ef2b7"
      },
      "source": [
        "np.zeros((2,3))"
      ],
      "execution_count": 16,
      "outputs": [
        {
          "output_type": "execute_result",
          "data": {
            "text/plain": [
              "array([[0., 0., 0.],\n",
              "       [0., 0., 0.]])"
            ]
          },
          "metadata": {},
          "execution_count": 16
        }
      ]
    },
    {
      "cell_type": "code",
      "metadata": {
        "colab": {
          "base_uri": "https://localhost:8080/"
        },
        "id": "w-1p-Fk0w4CP",
        "outputId": "86277c84-097b-445b-9af1-e6eb5a95685d"
      },
      "source": [
        "np.ones((4,2,2), dtype='int32')"
      ],
      "execution_count": 17,
      "outputs": [
        {
          "output_type": "execute_result",
          "data": {
            "text/plain": [
              "array([[[1, 1],\n",
              "        [1, 1]],\n",
              "\n",
              "       [[1, 1],\n",
              "        [1, 1]],\n",
              "\n",
              "       [[1, 1],\n",
              "        [1, 1]],\n",
              "\n",
              "       [[1, 1],\n",
              "        [1, 1]]], dtype=int32)"
            ]
          },
          "metadata": {},
          "execution_count": 17
        }
      ]
    },
    {
      "cell_type": "code",
      "metadata": {
        "colab": {
          "base_uri": "https://localhost:8080/"
        },
        "id": "lRuxMUzzw4AH",
        "outputId": "a351afe4-0a5d-4cbd-cbb0-833081cff8d1"
      },
      "source": [
        "np.random.rand(4,2)"
      ],
      "execution_count": 18,
      "outputs": [
        {
          "output_type": "execute_result",
          "data": {
            "text/plain": [
              "array([[0.65171361, 0.66027321],\n",
              "       [0.87258308, 0.65094924],\n",
              "       [0.66516164, 0.50780702],\n",
              "       [0.34115603, 0.95922471]])"
            ]
          },
          "metadata": {},
          "execution_count": 18
        }
      ]
    },
    {
      "cell_type": "code",
      "metadata": {
        "colab": {
          "base_uri": "https://localhost:8080/"
        },
        "id": "hO3GVvWxw39k",
        "outputId": "82e02c38-da0c-45cf-a5bb-211038cb5def"
      },
      "source": [
        "np.random.randint(-4,8, size=(3,3))"
      ],
      "execution_count": 19,
      "outputs": [
        {
          "output_type": "execute_result",
          "data": {
            "text/plain": [
              "array([[ 7,  4, -2],\n",
              "       [ 0,  5, -3],\n",
              "       [-2,  7, -4]])"
            ]
          },
          "metadata": {},
          "execution_count": 19
        }
      ]
    },
    {
      "cell_type": "code",
      "metadata": {
        "id": "0bNAHD32w37B",
        "colab": {
          "base_uri": "https://localhost:8080/"
        },
        "outputId": "7de491e8-22ae-4b0d-d27f-a1966c34d373"
      },
      "source": [
        "output = np.zeros((5,5))\n",
        "print(output)\n",
        "\n",
        "z = np.ones((3,3))\n",
        "z[1,1] = 9\n",
        "print(z)\n",
        "\n",
        "output[1:-1,1:-1] = z\n",
        "print(output)"
      ],
      "execution_count": 21,
      "outputs": [
        {
          "output_type": "stream",
          "name": "stdout",
          "text": [
            "[[0. 0. 0. 0. 0.]\n",
            " [0. 0. 0. 0. 0.]\n",
            " [0. 0. 0. 0. 0.]\n",
            " [0. 0. 0. 0. 0.]\n",
            " [0. 0. 0. 0. 0.]]\n",
            "[[1. 1. 1.]\n",
            " [1. 9. 1.]\n",
            " [1. 1. 1.]]\n",
            "[[0. 0. 0. 0. 0.]\n",
            " [0. 1. 1. 1. 0.]\n",
            " [0. 1. 9. 1. 0.]\n",
            " [0. 1. 1. 1. 0.]\n",
            " [0. 0. 0. 0. 0.]]\n"
          ]
        }
      ]
    },
    {
      "cell_type": "code",
      "metadata": {
        "id": "JDRxWBF3w344",
        "colab": {
          "base_uri": "https://localhost:8080/"
        },
        "outputId": "0e66e4ce-1279-4402-92fb-7a67b4213682"
      },
      "source": [
        "a=np.array([5,4,3,23,23,3],dtype='float32')\n",
        "#b=a\n",
        "b=a.copy()\n",
        "b[2]=1021\n",
        "print(a)\n",
        "print(b)"
      ],
      "execution_count": 36,
      "outputs": [
        {
          "output_type": "stream",
          "name": "stdout",
          "text": [
            "[ 5.  4.  3. 23. 23.  3.]\n",
            "[   5.    4. 1021.   23.   23.    3.]\n"
          ]
        }
      ]
    },
    {
      "cell_type": "code",
      "metadata": {
        "id": "ckLWWd1Bw32E",
        "colab": {
          "base_uri": "https://localhost:8080/"
        },
        "outputId": "40f436b7-1207-4609-90ab-ac40c3dd9006"
      },
      "source": [
        "a+2"
      ],
      "execution_count": 34,
      "outputs": [
        {
          "output_type": "execute_result",
          "data": {
            "text/plain": [
              "array([ 7,  6,  5, 25, 25,  5], dtype=int32)"
            ]
          },
          "metadata": {},
          "execution_count": 34
        }
      ]
    },
    {
      "cell_type": "code",
      "metadata": {
        "id": "9ZZ7QvZHw3zW",
        "colab": {
          "base_uri": "https://localhost:8080/"
        },
        "outputId": "7aa3ec3f-8024-4895-ece7-0e927449b65c"
      },
      "source": [
        "a/2"
      ],
      "execution_count": 35,
      "outputs": [
        {
          "output_type": "execute_result",
          "data": {
            "text/plain": [
              "array([ 2.5,  2. ,  1.5, 11.5, 11.5,  1.5])"
            ]
          },
          "metadata": {},
          "execution_count": 35
        }
      ]
    },
    {
      "cell_type": "code",
      "metadata": {
        "id": "7lZE3m1Rw3qb",
        "colab": {
          "base_uri": "https://localhost:8080/"
        },
        "outputId": "86fd99aa-09d3-4241-b46f-c064b5d32ea7"
      },
      "source": [
        "a**a"
      ],
      "execution_count": 38,
      "outputs": [
        {
          "output_type": "execute_result",
          "data": {
            "text/plain": [
              "array([3.1250000e+03, 2.5600000e+02, 2.7000000e+01, 2.0880468e+31,\n",
              "       2.0880468e+31, 2.7000000e+01], dtype=float32)"
            ]
          },
          "metadata": {},
          "execution_count": 38
        }
      ]
    },
    {
      "cell_type": "code",
      "metadata": {
        "id": "H4-FGTXiw3nz",
        "colab": {
          "base_uri": "https://localhost:8080/"
        },
        "outputId": "a512233c-d13e-4714-e23b-432ed8219b4a"
      },
      "source": [
        "a/=a\n",
        "print(a)"
      ],
      "execution_count": 40,
      "outputs": [
        {
          "output_type": "stream",
          "name": "stdout",
          "text": [
            "[1. 1. 1. 1. 1. 1.]\n"
          ]
        }
      ]
    },
    {
      "cell_type": "code",
      "metadata": {
        "id": "MSUUVoiiw3dV",
        "colab": {
          "base_uri": "https://localhost:8080/"
        },
        "outputId": "eab372ce-2d0b-48ad-c60e-2bd4e49ec076"
      },
      "source": [
        "np.sin(a)"
      ],
      "execution_count": 41,
      "outputs": [
        {
          "output_type": "execute_result",
          "data": {
            "text/plain": [
              "array([0.841471, 0.841471, 0.841471, 0.841471, 0.841471, 0.841471],\n",
              "      dtype=float32)"
            ]
          },
          "metadata": {},
          "execution_count": 41
        }
      ]
    },
    {
      "cell_type": "code",
      "metadata": {
        "id": "YRWVP4j_w3Lc",
        "colab": {
          "base_uri": "https://localhost:8080/"
        },
        "outputId": "c90989b5-455c-4b66-e88f-555bfd6f3f6a"
      },
      "source": [
        "a*(np.pi)"
      ],
      "execution_count": 43,
      "outputs": [
        {
          "output_type": "execute_result",
          "data": {
            "text/plain": [
              "array([3.1415927, 3.1415927, 3.1415927, 3.1415927, 3.1415927, 3.1415927],\n",
              "      dtype=float32)"
            ]
          },
          "metadata": {},
          "execution_count": 43
        }
      ]
    },
    {
      "cell_type": "code",
      "metadata": {
        "colab": {
          "base_uri": "https://localhost:8080/"
        },
        "id": "Vh9y832CEfym",
        "outputId": "eb739eef-d670-43ee-e355-2141d8d864db"
      },
      "source": [
        "np.sin(a),np.cos(a),np.tan(a)"
      ],
      "execution_count": 44,
      "outputs": [
        {
          "output_type": "execute_result",
          "data": {
            "text/plain": [
              "(array([0.841471, 0.841471, 0.841471, 0.841471, 0.841471, 0.841471],\n",
              "       dtype=float32),\n",
              " array([0.5403023, 0.5403023, 0.5403023, 0.5403023, 0.5403023, 0.5403023],\n",
              "       dtype=float32),\n",
              " array([1.5574077, 1.5574077, 1.5574077, 1.5574077, 1.5574077, 1.5574077],\n",
              "       dtype=float32))"
            ]
          },
          "metadata": {},
          "execution_count": 44
        }
      ]
    },
    {
      "cell_type": "code",
      "metadata": {
        "id": "T1TR2JInEnGl"
      },
      "source": [
        ""
      ],
      "execution_count": null,
      "outputs": []
    }
  ]
}